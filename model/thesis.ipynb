{
  "nbformat": 4,
  "nbformat_minor": 0,
  "metadata": {
    "colab": {
      "name": "thesis.ipynb",
      "provenance": [],
      "collapsed_sections": []
    },
    "kernelspec": {
      "name": "python3",
      "display_name": "Python 3"
    },
    "language_info": {
      "name": "python"
    }
  },
  "cells": [
    {
      "cell_type": "markdown",
      "source": [
        "## **<center> LVTN: PHÁT TRIỂN ỨNG DỤNG DI ĐỘNG QUẢN LÍ LỚP HỌC ONLINE VÀ TRỢ GIẢNG </center>**\n",
        "***\n",
        "<br>\n",
        "\n",
        "Bài toán đặt ra: \n",
        "\n",
        "*   Học sinh thường học tốt và hứng thú với một số môn nhất định.\n",
        "*   Các môn học tốt, học sinh có nhu cầu luyện tập, tìm hiểu nhiều hơn.\n",
        "*   Các môn học không có hứng thú, học sinh có nhu cầu đạt được một mức nhất định\n",
        "*   Cần có những cách thức để đưa ra những bài tập phù hợp với năng lực học sinh, giúp học sinh có khả năng phát triển tốt nhất đối với các môn học.\n",
        "\n",
        "Hướng giải quyết: <br>\n",
        "> Trong các bài tập tự luyện, mỗi học sinh sẽ được phân chia làm những gói câu hỏi riêng biệt. Dựa vào những kết quả của bài làm trước, mô hình Machine Learning sẽ đánh giá, và đưa ra gói câu hỏi tiếp theo phù hợp với năng lực từng học sinh. \n",
        "\n",
        "[Link dữ liệu](https://drive.google.com/file/d/1OUHqOoQLOK-dp2Y4TmphbNx3v-jbQUL-/view?usp=sharing)\n",
        "\n",
        "\n",
        "\n",
        "\n",
        "\n",
        "\n"
      ],
      "metadata": {
        "id": "hIneLUccmw3t"
      }
    },
    {
      "cell_type": "markdown",
      "source": [
        "# **Hiện thực**"
      ],
      "metadata": {
        "id": "V_VN1QejsmgV"
      }
    },
    {
      "cell_type": "markdown",
      "source": [
        "#**Xử lí dữ liệu**"
      ],
      "metadata": {
        "id": "JtW6QaG7szLe"
      }
    },
    {
      "cell_type": "markdown",
      "source": [
        "**Thiết lập Google Drive**"
      ],
      "metadata": {
        "id": "P5zwJNkduVB3"
      }
    },
    {
      "cell_type": "code",
      "metadata": {
        "colab": {
          "base_uri": "https://localhost:8080/"
        },
        "id": "RZoiUWnfhGlG",
        "outputId": "50a5c312-e4b0-4dc9-9cb7-e73ef4d984c3"
      },
      "source": [
        "from google.colab import drive\n",
        "drive.mount('/content/drive')\n",
        "data_dir=\"/content/drive/MyDrive/Thesis/thesis.csv\""
      ],
      "execution_count": null,
      "outputs": [
        {
          "output_type": "stream",
          "name": "stdout",
          "text": [
            "Mounted at /content/drive\n"
          ]
        }
      ]
    },
    {
      "cell_type": "markdown",
      "source": [
        "**Cài đặt các modules**"
      ],
      "metadata": {
        "id": "UrWfKiyFs-mF"
      }
    },
    {
      "cell_type": "code",
      "metadata": {
        "id": "-XMeW9aFgs7G"
      },
      "source": [
        "import numpy as np\n",
        "import pandas as pd\n",
        "import seaborn as sns\n",
        "import matplotlib.pyplot as plt\n",
        "\n",
        "from sklearn.model_selection import train_test_split\n"
      ],
      "execution_count": null,
      "outputs": []
    },
    {
      "cell_type": "markdown",
      "source": [
        "**Xử lí dữ liệu**"
      ],
      "metadata": {
        "id": "3Bn0y-H9tDvN"
      }
    },
    {
      "cell_type": "code",
      "metadata": {
        "id": "POQr7pDPanUt",
        "colab": {
          "base_uri": "https://localhost:8080/",
          "height": 206
        },
        "outputId": "e28ba72b-2a21-48a6-fb1d-7b1839ad70ee"
      },
      "source": [
        "data = pd.read_csv(data_dir)\n",
        "data = data.dropna()\n",
        "data1 = data[~(data.level>5)]\n",
        "data2 = data1[~(data1.speed<5)]\n",
        "data3 = data2[~(data2.score_1>10)]\n",
        "data3.head()"
      ],
      "execution_count": null,
      "outputs": [
        {
          "output_type": "execute_result",
          "data": {
            "text/plain": [
              "   score_1  package_1  score_2  package_2  score_3  package_3  speed  \\\n",
              "0        8          2        7          3        8          3     45   \n",
              "1        3          1        6          1        4          1     58   \n",
              "2        5          1        7          1        7          2     55   \n",
              "3        8          3       10          3       10          4     45   \n",
              "4        7          2        6          2        9          3     50   \n",
              "\n",
              "   satisfied_level  level  \n",
              "0              4.0      3  \n",
              "1              4.0      1  \n",
              "2              4.0      2  \n",
              "3              5.0      5  \n",
              "4              4.5      3  "
            ],
            "text/html": [
              "\n",
              "  <div id=\"df-42e36b0d-ba0a-4b17-a247-00d7ceb4060d\">\n",
              "    <div class=\"colab-df-container\">\n",
              "      <div>\n",
              "<style scoped>\n",
              "    .dataframe tbody tr th:only-of-type {\n",
              "        vertical-align: middle;\n",
              "    }\n",
              "\n",
              "    .dataframe tbody tr th {\n",
              "        vertical-align: top;\n",
              "    }\n",
              "\n",
              "    .dataframe thead th {\n",
              "        text-align: right;\n",
              "    }\n",
              "</style>\n",
              "<table border=\"1\" class=\"dataframe\">\n",
              "  <thead>\n",
              "    <tr style=\"text-align: right;\">\n",
              "      <th></th>\n",
              "      <th>score_1</th>\n",
              "      <th>package_1</th>\n",
              "      <th>score_2</th>\n",
              "      <th>package_2</th>\n",
              "      <th>score_3</th>\n",
              "      <th>package_3</th>\n",
              "      <th>speed</th>\n",
              "      <th>satisfied_level</th>\n",
              "      <th>level</th>\n",
              "    </tr>\n",
              "  </thead>\n",
              "  <tbody>\n",
              "    <tr>\n",
              "      <th>0</th>\n",
              "      <td>8</td>\n",
              "      <td>2</td>\n",
              "      <td>7</td>\n",
              "      <td>3</td>\n",
              "      <td>8</td>\n",
              "      <td>3</td>\n",
              "      <td>45</td>\n",
              "      <td>4.0</td>\n",
              "      <td>3</td>\n",
              "    </tr>\n",
              "    <tr>\n",
              "      <th>1</th>\n",
              "      <td>3</td>\n",
              "      <td>1</td>\n",
              "      <td>6</td>\n",
              "      <td>1</td>\n",
              "      <td>4</td>\n",
              "      <td>1</td>\n",
              "      <td>58</td>\n",
              "      <td>4.0</td>\n",
              "      <td>1</td>\n",
              "    </tr>\n",
              "    <tr>\n",
              "      <th>2</th>\n",
              "      <td>5</td>\n",
              "      <td>1</td>\n",
              "      <td>7</td>\n",
              "      <td>1</td>\n",
              "      <td>7</td>\n",
              "      <td>2</td>\n",
              "      <td>55</td>\n",
              "      <td>4.0</td>\n",
              "      <td>2</td>\n",
              "    </tr>\n",
              "    <tr>\n",
              "      <th>3</th>\n",
              "      <td>8</td>\n",
              "      <td>3</td>\n",
              "      <td>10</td>\n",
              "      <td>3</td>\n",
              "      <td>10</td>\n",
              "      <td>4</td>\n",
              "      <td>45</td>\n",
              "      <td>5.0</td>\n",
              "      <td>5</td>\n",
              "    </tr>\n",
              "    <tr>\n",
              "      <th>4</th>\n",
              "      <td>7</td>\n",
              "      <td>2</td>\n",
              "      <td>6</td>\n",
              "      <td>2</td>\n",
              "      <td>9</td>\n",
              "      <td>3</td>\n",
              "      <td>50</td>\n",
              "      <td>4.5</td>\n",
              "      <td>3</td>\n",
              "    </tr>\n",
              "  </tbody>\n",
              "</table>\n",
              "</div>\n",
              "      <button class=\"colab-df-convert\" onclick=\"convertToInteractive('df-42e36b0d-ba0a-4b17-a247-00d7ceb4060d')\"\n",
              "              title=\"Convert this dataframe to an interactive table.\"\n",
              "              style=\"display:none;\">\n",
              "        \n",
              "  <svg xmlns=\"http://www.w3.org/2000/svg\" height=\"24px\"viewBox=\"0 0 24 24\"\n",
              "       width=\"24px\">\n",
              "    <path d=\"M0 0h24v24H0V0z\" fill=\"none\"/>\n",
              "    <path d=\"M18.56 5.44l.94 2.06.94-2.06 2.06-.94-2.06-.94-.94-2.06-.94 2.06-2.06.94zm-11 1L8.5 8.5l.94-2.06 2.06-.94-2.06-.94L8.5 2.5l-.94 2.06-2.06.94zm10 10l.94 2.06.94-2.06 2.06-.94-2.06-.94-.94-2.06-.94 2.06-2.06.94z\"/><path d=\"M17.41 7.96l-1.37-1.37c-.4-.4-.92-.59-1.43-.59-.52 0-1.04.2-1.43.59L10.3 9.45l-7.72 7.72c-.78.78-.78 2.05 0 2.83L4 21.41c.39.39.9.59 1.41.59.51 0 1.02-.2 1.41-.59l7.78-7.78 2.81-2.81c.8-.78.8-2.07 0-2.86zM5.41 20L4 18.59l7.72-7.72 1.47 1.35L5.41 20z\"/>\n",
              "  </svg>\n",
              "      </button>\n",
              "      \n",
              "  <style>\n",
              "    .colab-df-container {\n",
              "      display:flex;\n",
              "      flex-wrap:wrap;\n",
              "      gap: 12px;\n",
              "    }\n",
              "\n",
              "    .colab-df-convert {\n",
              "      background-color: #E8F0FE;\n",
              "      border: none;\n",
              "      border-radius: 50%;\n",
              "      cursor: pointer;\n",
              "      display: none;\n",
              "      fill: #1967D2;\n",
              "      height: 32px;\n",
              "      padding: 0 0 0 0;\n",
              "      width: 32px;\n",
              "    }\n",
              "\n",
              "    .colab-df-convert:hover {\n",
              "      background-color: #E2EBFA;\n",
              "      box-shadow: 0px 1px 2px rgba(60, 64, 67, 0.3), 0px 1px 3px 1px rgba(60, 64, 67, 0.15);\n",
              "      fill: #174EA6;\n",
              "    }\n",
              "\n",
              "    [theme=dark] .colab-df-convert {\n",
              "      background-color: #3B4455;\n",
              "      fill: #D2E3FC;\n",
              "    }\n",
              "\n",
              "    [theme=dark] .colab-df-convert:hover {\n",
              "      background-color: #434B5C;\n",
              "      box-shadow: 0px 1px 3px 1px rgba(0, 0, 0, 0.15);\n",
              "      filter: drop-shadow(0px 1px 2px rgba(0, 0, 0, 0.3));\n",
              "      fill: #FFFFFF;\n",
              "    }\n",
              "  </style>\n",
              "\n",
              "      <script>\n",
              "        const buttonEl =\n",
              "          document.querySelector('#df-42e36b0d-ba0a-4b17-a247-00d7ceb4060d button.colab-df-convert');\n",
              "        buttonEl.style.display =\n",
              "          google.colab.kernel.accessAllowed ? 'block' : 'none';\n",
              "\n",
              "        async function convertToInteractive(key) {\n",
              "          const element = document.querySelector('#df-42e36b0d-ba0a-4b17-a247-00d7ceb4060d');\n",
              "          const dataTable =\n",
              "            await google.colab.kernel.invokeFunction('convertToInteractive',\n",
              "                                                     [key], {});\n",
              "          if (!dataTable) return;\n",
              "\n",
              "          const docLinkHtml = 'Like what you see? Visit the ' +\n",
              "            '<a target=\"_blank\" href=https://colab.research.google.com/notebooks/data_table.ipynb>data table notebook</a>'\n",
              "            + ' to learn more about interactive tables.';\n",
              "          element.innerHTML = '';\n",
              "          dataTable['output_type'] = 'display_data';\n",
              "          await google.colab.output.renderOutput(dataTable, element);\n",
              "          const docLink = document.createElement('div');\n",
              "          docLink.innerHTML = docLinkHtml;\n",
              "          element.appendChild(docLink);\n",
              "        }\n",
              "      </script>\n",
              "    </div>\n",
              "  </div>\n",
              "  "
            ]
          },
          "metadata": {},
          "execution_count": 4
        }
      ]
    },
    {
      "cell_type": "code",
      "metadata": {
        "id": "h5jrFFrbrXKo",
        "colab": {
          "base_uri": "https://localhost:8080/"
        },
        "outputId": "e5ace1e5-50f8-4400-9ed1-29f12e54e337"
      },
      "source": [
        "data3.shape"
      ],
      "execution_count": null,
      "outputs": [
        {
          "output_type": "execute_result",
          "data": {
            "text/plain": [
              "(403, 9)"
            ]
          },
          "metadata": {},
          "execution_count": 5
        }
      ]
    },
    {
      "cell_type": "code",
      "source": [
        "X = data3[data3.columns[0:8]].values\n",
        "y = data3['level'].values\n",
        "X"
      ],
      "metadata": {
        "id": "eQTiLlUpNh3I",
        "colab": {
          "base_uri": "https://localhost:8080/"
        },
        "outputId": "176ab972-569b-4f1e-d6e6-4f4b3c61a9bc"
      },
      "execution_count": null,
      "outputs": [
        {
          "output_type": "execute_result",
          "data": {
            "text/plain": [
              "array([[ 8. ,  2. ,  7. , ...,  3. , 45. ,  4. ],\n",
              "       [ 3. ,  1. ,  6. , ...,  1. , 58. ,  4. ],\n",
              "       [ 5. ,  1. ,  7. , ...,  2. , 55. ,  4. ],\n",
              "       ...,\n",
              "       [ 9. ,  1. ,  7. , ...,  3. , 55. ,  3.5],\n",
              "       [ 7. ,  1. ,  8. , ...,  3. , 50. ,  3. ],\n",
              "       [ 7. ,  1. ,  9. , ...,  2. , 59. ,  3.5]])"
            ]
          },
          "metadata": {},
          "execution_count": 6
        }
      ]
    },
    {
      "cell_type": "code",
      "source": [
        "X_train, X_test, y_train, y_test = train_test_split(X, y, test_size=0.2)\n",
        "X_test\n"
      ],
      "metadata": {
        "colab": {
          "base_uri": "https://localhost:8080/"
        },
        "id": "eYejMWSPY1SC",
        "outputId": "c9fef1de-9986-4294-ea9c-f20914b9918d"
      },
      "execution_count": null,
      "outputs": [
        {
          "output_type": "execute_result",
          "data": {
            "text/plain": [
              "array([[ 9. ,  2. , 10. ,  3. ,  9. ,  4. , 41. ,  4.5],\n",
              "       [ 7. ,  2. ,  6. ,  2. ,  5. ,  3. , 49. ,  4. ],\n",
              "       [ 9. ,  2. , 10. ,  3. , 10. ,  3. , 33. ,  5. ],\n",
              "       [ 8. ,  1. ,  9. ,  2. , 10. ,  3. , 44. ,  4. ],\n",
              "       [ 6. ,  1. ,  8. ,  2. ,  7. ,  3. , 47. ,  5. ],\n",
              "       [ 8. ,  3. , 10. ,  3. , 10. ,  4. , 45. ,  5. ],\n",
              "       [ 7. ,  1. ,  8. ,  2. ,  8. ,  3. , 57. ,  4. ],\n",
              "       [ 7. ,  1. ,  8. ,  2. ,  9. ,  3. , 54. ,  4.5],\n",
              "       [ 9. ,  1. ,  7. ,  2. ,  8. ,  3. , 50. ,  4. ],\n",
              "       [ 7. ,  2. ,  8. ,  3. ,  6. ,  4. , 55. ,  3. ],\n",
              "       [ 4. ,  1. ,  6. ,  1. ,  5. ,  2. , 49. ,  3.5],\n",
              "       [ 7. ,  1. ,  5. ,  2. ,  8. ,  2. , 39. ,  4. ],\n",
              "       [ 7. ,  3. ,  8. ,  3. ,  8. ,  4. , 40. ,  4.5],\n",
              "       [ 9. ,  3. , 10. ,  3. , 10. ,  4. , 62. ,  4.5],\n",
              "       [ 3. ,  1. ,  7. ,  1. ,  7. ,  2. , 47. ,  4. ],\n",
              "       [ 7. ,  2. ,  8. ,  2. ,  9. ,  3. , 30. ,  5. ],\n",
              "       [ 5. ,  2. ,  8. ,  2. , 10. ,  3. , 33. ,  4.5],\n",
              "       [ 8. ,  2. ,  9. ,  3. , 10. ,  4. , 30. ,  5. ],\n",
              "       [10. ,  1. , 10. ,  2. , 10. ,  3. , 58. ,  4.5],\n",
              "       [ 5. ,  1. ,  8. ,  1. ,  8. ,  2. , 36. ,  4.5],\n",
              "       [ 9. ,  2. , 10. ,  3. ,  9. ,  4. , 40. ,  5. ],\n",
              "       [ 5. ,  2. ,  9. ,  2. ,  9. ,  3. , 39. ,  4.5],\n",
              "       [ 7. ,  1. ,  9. ,  2. , 10. ,  3. , 36. ,  5. ],\n",
              "       [ 7. ,  2. ,  8. ,  3. ,  6. ,  4. , 51. ,  3.5],\n",
              "       [ 8. ,  3. ,  9. ,  4. ,  9. ,  5. , 31. ,  4.5],\n",
              "       [ 7. ,  1. ,  9. ,  2. ,  8. ,  3. , 44. ,  4.5],\n",
              "       [ 7. ,  2. ,  6. ,  2. ,  5. ,  3. , 47. ,  3. ],\n",
              "       [ 8. ,  2. ,  7. ,  3. ,  8. ,  3. , 45. ,  4. ],\n",
              "       [ 4. ,  2. ,  8. ,  2. ,  8. ,  3. , 57. ,  4. ],\n",
              "       [ 5. ,  1. ,  8. ,  1. ,  6. ,  2. , 48. ,  4. ],\n",
              "       [ 9. ,  2. ,  9. ,  2. , 10. ,  3. , 47. ,  4. ],\n",
              "       [ 6. ,  3. ,  8. ,  3. ,  9. ,  4. , 33. ,  5. ],\n",
              "       [ 9. ,  2. ,  9. ,  3. ,  5. ,  4. , 50. ,  4.5],\n",
              "       [ 8. ,  2. , 10. ,  3. , 10. ,  4. , 30. ,  5. ],\n",
              "       [ 8. ,  3. , 10. ,  4. ,  9. ,  5. , 33. ,  5. ],\n",
              "       [ 8. ,  2. ,  9. ,  3. ,  8. ,  4. , 30. ,  4. ],\n",
              "       [ 3. ,  3. ,  4. ,  3. ,  3. ,  3. , 49. ,  3. ],\n",
              "       [10. ,  2. ,  8. ,  3. ,  8. ,  4. , 55. ,  4.5],\n",
              "       [ 7. ,  3. ,  8. ,  4. ,  9. ,  5. , 57. ,  4. ],\n",
              "       [ 9. ,  2. , 10. ,  3. , 10. ,  4. , 40. ,  5. ],\n",
              "       [ 5. ,  1. , 10. ,  1. , 10. ,  2. , 41. ,  4.5],\n",
              "       [ 5. ,  2. ,  8. ,  2. ,  7. ,  3. , 46. ,  4. ],\n",
              "       [ 5. ,  1. ,  4. ,  1. ,  8. ,  1. , 52. ,  3.5],\n",
              "       [ 9. ,  1. , 10. ,  2. , 10. ,  3. , 38. ,  5. ],\n",
              "       [ 4. ,  2. ,  5. ,  2. ,  7. ,  2. , 55. ,  4. ],\n",
              "       [ 9. ,  2. ,  9. ,  3. ,  7. ,  4. , 49. ,  4. ],\n",
              "       [ 7. ,  2. ,  8. ,  3. ,  9. ,  4. , 32. ,  4.5],\n",
              "       [ 8. ,  3. ,  9. ,  3. , 10. ,  4. , 31. ,  5. ],\n",
              "       [ 8. ,  1. ,  7. ,  2. ,  5. ,  2. , 59. ,  3.5],\n",
              "       [ 7. ,  2. ,  9. ,  2. , 10. ,  3. , 30. ,  5. ],\n",
              "       [ 7. ,  2. ,  9. ,  3. , 10. ,  4. , 41. ,  5. ],\n",
              "       [ 8. ,  1. ,  8. ,  2. ,  8. ,  3. , 59. ,  3.5],\n",
              "       [ 7. ,  3. ,  7. ,  3. ,  5. ,  3. , 44. ,  4. ],\n",
              "       [ 8. ,  3. ,  9. ,  4. ,  7. ,  5. , 40. ,  4. ],\n",
              "       [ 8. ,  1. ,  8. ,  1. ,  9. ,  2. , 40. ,  4. ],\n",
              "       [ 5. ,  1. ,  7. ,  1. ,  8. ,  2. , 44. ,  4.5],\n",
              "       [ 4. ,  2. ,  5. ,  2. ,  4. ,  2. , 60. ,  3. ],\n",
              "       [ 6. ,  3. ,  7. ,  3. ,  8. ,  4. , 41. ,  4.5],\n",
              "       [ 5. ,  3. ,  9. ,  3. ,  9. ,  4. , 59. ,  4. ],\n",
              "       [10. ,  3. , 10. ,  4. ,  8. ,  5. , 30. ,  4.5],\n",
              "       [ 9. ,  2. , 10. ,  3. , 10. ,  4. , 50. ,  5. ],\n",
              "       [ 7. ,  1. ,  7. ,  2. ,  9. ,  3. , 60. ,  4.5],\n",
              "       [ 7. ,  1. ,  8. ,  2. ,  9. ,  3. , 30. ,  4.5],\n",
              "       [ 7. ,  3. ,  9. ,  4. ,  9. ,  5. , 56. ,  5. ],\n",
              "       [ 7. ,  1. ,  9. ,  1. , 10. ,  2. , 42. ,  4.5],\n",
              "       [ 6. ,  1. ,  8. ,  1. , 10. ,  2. , 40. ,  4.5],\n",
              "       [ 3. ,  1. ,  6. ,  1. ,  9. ,  1. , 42. ,  4.5],\n",
              "       [ 4. ,  1. ,  6. ,  1. ,  6. ,  2. , 59. ,  3. ],\n",
              "       [ 7. ,  2. ,  9. ,  3. , 10. ,  4. , 40. ,  4.5],\n",
              "       [ 9. ,  1. ,  8. ,  2. ,  5. ,  3. , 47. ,  4. ],\n",
              "       [ 7. ,  1. ,  7. ,  2. ,  7. ,  3. , 49. ,  4. ],\n",
              "       [ 3. ,  1. ,  8. ,  1. ,  7. ,  2. , 50. ,  4.5],\n",
              "       [ 7. ,  2. ,  9. ,  2. , 10. ,  3. , 33. ,  4.5],\n",
              "       [ 7. ,  2. ,  9. ,  3. ,  8. ,  4. , 42. ,  4. ],\n",
              "       [ 7. ,  2. ,  5. ,  2. ,  4. ,  2. , 60. ,  3. ],\n",
              "       [ 5. ,  2. ,  7. ,  2. ,  8. ,  3. , 39. ,  4.5],\n",
              "       [ 8. ,  3. ,  4. ,  3. ,  6. ,  3. , 57. ,  3.5],\n",
              "       [ 5. ,  2. ,  8. ,  2. ,  6. ,  3. , 50. ,  3.5],\n",
              "       [10. ,  2. ,  9. ,  3. ,  9. ,  4. , 33. ,  4.5],\n",
              "       [ 5. ,  3. ,  9. ,  3. ,  9. ,  4. , 59. ,  4. ],\n",
              "       [ 8. ,  3. ,  9. ,  4. ,  8. ,  5. , 40. ,  4.5]])"
            ]
          },
          "metadata": {},
          "execution_count": 7
        }
      ]
    },
    {
      "cell_type": "markdown",
      "source": [
        "#**Thử nghiệm các mô hình**"
      ],
      "metadata": {
        "id": "MxSRXzHmw9m2"
      }
    },
    {
      "cell_type": "markdown",
      "source": [
        "**Thử nghiệm mô hình LogisticRegression (Softmax Regression)**"
      ],
      "metadata": {
        "id": "y6qnQh99vNQm"
      }
    },
    {
      "cell_type": "code",
      "source": [
        "from sklearn.linear_model import LogisticRegression\n",
        "softmaxReg = LogisticRegression(multi_class = 'multinomial', solver = 'lbfgs')\n",
        "softmaxReg.fit(X_train,y_train)\n",
        "softmaxReg.score(X_test,y_test)"
      ],
      "metadata": {
        "colab": {
          "base_uri": "https://localhost:8080/"
        },
        "id": "-udR6awnOOA4",
        "outputId": "a5a3b441-95cf-42eb-f17e-8618ec7b85ad"
      },
      "execution_count": null,
      "outputs": [
        {
          "output_type": "stream",
          "name": "stderr",
          "text": [
            "/usr/local/lib/python3.7/dist-packages/sklearn/linear_model/_logistic.py:818: ConvergenceWarning: lbfgs failed to converge (status=1):\n",
            "STOP: TOTAL NO. of ITERATIONS REACHED LIMIT.\n",
            "\n",
            "Increase the number of iterations (max_iter) or scale the data as shown in:\n",
            "    https://scikit-learn.org/stable/modules/preprocessing.html\n",
            "Please also refer to the documentation for alternative solver options:\n",
            "    https://scikit-learn.org/stable/modules/linear_model.html#logistic-regression\n",
            "  extra_warning_msg=_LOGISTIC_SOLVER_CONVERGENCE_MSG,\n"
          ]
        },
        {
          "output_type": "execute_result",
          "data": {
            "text/plain": [
              "0.5802469135802469"
            ]
          },
          "metadata": {},
          "execution_count": 8
        }
      ]
    },
    {
      "cell_type": "markdown",
      "source": [
        "**Thử nghiệm mô hình SVM (Support Vector Machine)**"
      ],
      "metadata": {
        "id": "AhU3E1Q5vthm"
      }
    },
    {
      "cell_type": "code",
      "source": [
        "from sklearn import svm\n",
        "svm_model = svm.SVC(kernel='linear',C=10,gamma='auto')\n",
        "svm_model.fit(X_train,y_train)\n",
        "svm_model.score(X_test, y_test)"
      ],
      "metadata": {
        "id": "rlfMU88iwGRV",
        "colab": {
          "base_uri": "https://localhost:8080/"
        },
        "outputId": "a8e7186c-acd4-40f0-c04c-2c52cc04dbfa"
      },
      "execution_count": null,
      "outputs": [
        {
          "output_type": "execute_result",
          "data": {
            "text/plain": [
              "0.8888888888888888"
            ]
          },
          "metadata": {},
          "execution_count": 9
        }
      ]
    },
    {
      "cell_type": "markdown",
      "source": [
        "#**Đánh giá các mô hình sử dụng GridSearchCV**"
      ],
      "metadata": {
        "id": "LeLeGzXOwJJn"
      }
    },
    {
      "cell_type": "code",
      "source": [
        "# Đánh giá "
      ],
      "metadata": {
        "id": "DdrdgE8dwcGv"
      },
      "execution_count": null,
      "outputs": []
    },
    {
      "cell_type": "code",
      "source": [
        "from sklearn.model_selection import ShuffleSplit\n",
        "from sklearn.model_selection import cross_val_score\n",
        "from sklearn.model_selection import GridSearchCV\n",
        "\n",
        "cv = ShuffleSplit(n_splits=3, test_size=0.2, random_state=0)\n",
        "\n",
        "cross_val_score(LogisticRegression(multi_class = 'multinomial', solver = 'lbfgs'), X, y, cv=cv)"
      ],
      "metadata": {
        "colab": {
          "base_uri": "https://localhost:8080/"
        },
        "outputId": "251453e5-6c05-41cb-ad9e-5956b65b1249",
        "id": "wfwHZ2b6OZTv"
      },
      "execution_count": null,
      "outputs": [
        {
          "output_type": "stream",
          "name": "stderr",
          "text": [
            "/usr/local/lib/python3.7/dist-packages/sklearn/linear_model/_logistic.py:818: ConvergenceWarning: lbfgs failed to converge (status=1):\n",
            "STOP: TOTAL NO. of ITERATIONS REACHED LIMIT.\n",
            "\n",
            "Increase the number of iterations (max_iter) or scale the data as shown in:\n",
            "    https://scikit-learn.org/stable/modules/preprocessing.html\n",
            "Please also refer to the documentation for alternative solver options:\n",
            "    https://scikit-learn.org/stable/modules/linear_model.html#logistic-regression\n",
            "  extra_warning_msg=_LOGISTIC_SOLVER_CONVERGENCE_MSG,\n",
            "/usr/local/lib/python3.7/dist-packages/sklearn/linear_model/_logistic.py:818: ConvergenceWarning: lbfgs failed to converge (status=1):\n",
            "STOP: TOTAL NO. of ITERATIONS REACHED LIMIT.\n",
            "\n",
            "Increase the number of iterations (max_iter) or scale the data as shown in:\n",
            "    https://scikit-learn.org/stable/modules/preprocessing.html\n",
            "Please also refer to the documentation for alternative solver options:\n",
            "    https://scikit-learn.org/stable/modules/linear_model.html#logistic-regression\n",
            "  extra_warning_msg=_LOGISTIC_SOLVER_CONVERGENCE_MSG,\n",
            "/usr/local/lib/python3.7/dist-packages/sklearn/linear_model/_logistic.py:818: ConvergenceWarning: lbfgs failed to converge (status=1):\n",
            "STOP: TOTAL NO. of ITERATIONS REACHED LIMIT.\n",
            "\n",
            "Increase the number of iterations (max_iter) or scale the data as shown in:\n",
            "    https://scikit-learn.org/stable/modules/preprocessing.html\n",
            "Please also refer to the documentation for alternative solver options:\n",
            "    https://scikit-learn.org/stable/modules/linear_model.html#logistic-regression\n",
            "  extra_warning_msg=_LOGISTIC_SOLVER_CONVERGENCE_MSG,\n"
          ]
        },
        {
          "output_type": "execute_result",
          "data": {
            "text/plain": [
              "array([0.65432099, 0.67901235, 0.62962963])"
            ]
          },
          "metadata": {},
          "execution_count": 15
        }
      ]
    },
    {
      "cell_type": "code",
      "source": [
        "from sklearn import svm\n",
        "from sklearn.ensemble import RandomForestClassifier\n",
        "from sklearn.linear_model import LogisticRegression\n",
        "\n",
        "model_params = {\n",
        "    'svm': {\n",
        "        'model': svm.SVC(gamma='auto'),\n",
        "        'params' : {\n",
        "            'C': [1,10,20],\n",
        "            'kernel': ['rbf','linear']\n",
        "        }  \n",
        "    },\n",
        "    'random_forest': {\n",
        "        'model': RandomForestClassifier(),\n",
        "        'params' : {\n",
        "            'n_estimators': [1,5,10]\n",
        "        }\n",
        "    },\n",
        "    'logistic_regression' : {\n",
        "        'model': LogisticRegression(solver='liblinear',multi_class='auto'),\n",
        "        'params': {\n",
        "            'C': [1,5,10]\n",
        "        }\n",
        "    }\n",
        "}"
      ],
      "metadata": {
        "id": "cSRCNnS_emdk"
      },
      "execution_count": null,
      "outputs": []
    },
    {
      "cell_type": "code",
      "source": [
        "scores = []\n",
        "\n",
        "for model_name, mp in model_params.items():\n",
        "    clf =  GridSearchCV(mp['model'], mp['params'], cv=5, return_train_score=False)\n",
        "    clf.fit(X, y)\n",
        "    scores.append({\n",
        "        'model': model_name,\n",
        "        'best_score': clf.best_score_,\n",
        "        'best_params': clf.best_params_\n",
        "    })\n",
        "    \n",
        "df = pd.DataFrame(scores,columns=['model','best_score','best_params'])\n",
        "df"
      ],
      "metadata": {
        "colab": {
          "base_uri": "https://localhost:8080/",
          "height": 143
        },
        "id": "ncPMDGYkek28",
        "outputId": "a9f98fc3-c855-49d7-f8cb-9f3ee228411e"
      },
      "execution_count": null,
      "outputs": [
        {
          "output_type": "execute_result",
          "data": {
            "text/plain": [
              "                 model  best_score                    best_params\n",
              "0                  svm    0.888395  {'C': 20, 'kernel': 'linear'}\n",
              "1        random_forest    0.858765            {'n_estimators': 5}\n",
              "2  logistic_regression    0.665154                      {'C': 10}"
            ],
            "text/html": [
              "\n",
              "  <div id=\"df-ff1d0ba8-f5d8-4e9a-a92f-484ba9cbc74d\">\n",
              "    <div class=\"colab-df-container\">\n",
              "      <div>\n",
              "<style scoped>\n",
              "    .dataframe tbody tr th:only-of-type {\n",
              "        vertical-align: middle;\n",
              "    }\n",
              "\n",
              "    .dataframe tbody tr th {\n",
              "        vertical-align: top;\n",
              "    }\n",
              "\n",
              "    .dataframe thead th {\n",
              "        text-align: right;\n",
              "    }\n",
              "</style>\n",
              "<table border=\"1\" class=\"dataframe\">\n",
              "  <thead>\n",
              "    <tr style=\"text-align: right;\">\n",
              "      <th></th>\n",
              "      <th>model</th>\n",
              "      <th>best_score</th>\n",
              "      <th>best_params</th>\n",
              "    </tr>\n",
              "  </thead>\n",
              "  <tbody>\n",
              "    <tr>\n",
              "      <th>0</th>\n",
              "      <td>svm</td>\n",
              "      <td>0.888395</td>\n",
              "      <td>{'C': 20, 'kernel': 'linear'}</td>\n",
              "    </tr>\n",
              "    <tr>\n",
              "      <th>1</th>\n",
              "      <td>random_forest</td>\n",
              "      <td>0.858765</td>\n",
              "      <td>{'n_estimators': 5}</td>\n",
              "    </tr>\n",
              "    <tr>\n",
              "      <th>2</th>\n",
              "      <td>logistic_regression</td>\n",
              "      <td>0.665154</td>\n",
              "      <td>{'C': 10}</td>\n",
              "    </tr>\n",
              "  </tbody>\n",
              "</table>\n",
              "</div>\n",
              "      <button class=\"colab-df-convert\" onclick=\"convertToInteractive('df-ff1d0ba8-f5d8-4e9a-a92f-484ba9cbc74d')\"\n",
              "              title=\"Convert this dataframe to an interactive table.\"\n",
              "              style=\"display:none;\">\n",
              "        \n",
              "  <svg xmlns=\"http://www.w3.org/2000/svg\" height=\"24px\"viewBox=\"0 0 24 24\"\n",
              "       width=\"24px\">\n",
              "    <path d=\"M0 0h24v24H0V0z\" fill=\"none\"/>\n",
              "    <path d=\"M18.56 5.44l.94 2.06.94-2.06 2.06-.94-2.06-.94-.94-2.06-.94 2.06-2.06.94zm-11 1L8.5 8.5l.94-2.06 2.06-.94-2.06-.94L8.5 2.5l-.94 2.06-2.06.94zm10 10l.94 2.06.94-2.06 2.06-.94-2.06-.94-.94-2.06-.94 2.06-2.06.94z\"/><path d=\"M17.41 7.96l-1.37-1.37c-.4-.4-.92-.59-1.43-.59-.52 0-1.04.2-1.43.59L10.3 9.45l-7.72 7.72c-.78.78-.78 2.05 0 2.83L4 21.41c.39.39.9.59 1.41.59.51 0 1.02-.2 1.41-.59l7.78-7.78 2.81-2.81c.8-.78.8-2.07 0-2.86zM5.41 20L4 18.59l7.72-7.72 1.47 1.35L5.41 20z\"/>\n",
              "  </svg>\n",
              "      </button>\n",
              "      \n",
              "  <style>\n",
              "    .colab-df-container {\n",
              "      display:flex;\n",
              "      flex-wrap:wrap;\n",
              "      gap: 12px;\n",
              "    }\n",
              "\n",
              "    .colab-df-convert {\n",
              "      background-color: #E8F0FE;\n",
              "      border: none;\n",
              "      border-radius: 50%;\n",
              "      cursor: pointer;\n",
              "      display: none;\n",
              "      fill: #1967D2;\n",
              "      height: 32px;\n",
              "      padding: 0 0 0 0;\n",
              "      width: 32px;\n",
              "    }\n",
              "\n",
              "    .colab-df-convert:hover {\n",
              "      background-color: #E2EBFA;\n",
              "      box-shadow: 0px 1px 2px rgba(60, 64, 67, 0.3), 0px 1px 3px 1px rgba(60, 64, 67, 0.15);\n",
              "      fill: #174EA6;\n",
              "    }\n",
              "\n",
              "    [theme=dark] .colab-df-convert {\n",
              "      background-color: #3B4455;\n",
              "      fill: #D2E3FC;\n",
              "    }\n",
              "\n",
              "    [theme=dark] .colab-df-convert:hover {\n",
              "      background-color: #434B5C;\n",
              "      box-shadow: 0px 1px 3px 1px rgba(0, 0, 0, 0.15);\n",
              "      filter: drop-shadow(0px 1px 2px rgba(0, 0, 0, 0.3));\n",
              "      fill: #FFFFFF;\n",
              "    }\n",
              "  </style>\n",
              "\n",
              "      <script>\n",
              "        const buttonEl =\n",
              "          document.querySelector('#df-ff1d0ba8-f5d8-4e9a-a92f-484ba9cbc74d button.colab-df-convert');\n",
              "        buttonEl.style.display =\n",
              "          google.colab.kernel.accessAllowed ? 'block' : 'none';\n",
              "\n",
              "        async function convertToInteractive(key) {\n",
              "          const element = document.querySelector('#df-ff1d0ba8-f5d8-4e9a-a92f-484ba9cbc74d');\n",
              "          const dataTable =\n",
              "            await google.colab.kernel.invokeFunction('convertToInteractive',\n",
              "                                                     [key], {});\n",
              "          if (!dataTable) return;\n",
              "\n",
              "          const docLinkHtml = 'Like what you see? Visit the ' +\n",
              "            '<a target=\"_blank\" href=https://colab.research.google.com/notebooks/data_table.ipynb>data table notebook</a>'\n",
              "            + ' to learn more about interactive tables.';\n",
              "          element.innerHTML = '';\n",
              "          dataTable['output_type'] = 'display_data';\n",
              "          await google.colab.output.renderOutput(dataTable, element);\n",
              "          const docLink = document.createElement('div');\n",
              "          docLink.innerHTML = docLinkHtml;\n",
              "          element.appendChild(docLink);\n",
              "        }\n",
              "      </script>\n",
              "    </div>\n",
              "  </div>\n",
              "  "
            ]
          },
          "metadata": {},
          "execution_count": 17
        }
      ]
    },
    {
      "cell_type": "markdown",
      "source": [
        "#**Thử nghiệm với các dữ liệu đưa vào và xuất mô hình**"
      ],
      "metadata": {
        "id": "mzUgcVPXwpDu"
      }
    },
    {
      "cell_type": "code",
      "source": [
        "\n",
        "x_test= np.array([[10,3,9,3,9,4,54,4]])\n",
        "y_expect = svm_model.predict(x_test)\n",
        "y_expect"
      ],
      "metadata": {
        "colab": {
          "base_uri": "https://localhost:8080/"
        },
        "id": "e56EVduTkr9i",
        "outputId": "dca58ae4-dad2-4303-fc96-07ad3963305e"
      },
      "execution_count": null,
      "outputs": [
        {
          "output_type": "execute_result",
          "data": {
            "text/plain": [
              "array([5])"
            ]
          },
          "metadata": {},
          "execution_count": 20
        }
      ]
    },
    {
      "cell_type": "code",
      "source": [
        "import pickle\n",
        "with open('thesis.pickle','wb') as f:\n",
        "    pickle.dump(svm_model,f)"
      ],
      "metadata": {
        "id": "ZBE0AxvrTrus"
      },
      "execution_count": null,
      "outputs": []
    },
    {
      "cell_type": "code",
      "source": [
        "import json\n",
        "columns = {\n",
        "    'data_columns' : [col.lower() for col in data.columns[0:8]]\n",
        "}\n",
        "with open(\"columns.json\",\"w\") as f:\n",
        "    f.write(json.dumps(columns))"
      ],
      "metadata": {
        "id": "ifrsFU9a5u75"
      },
      "execution_count": null,
      "outputs": []
    }
  ]
}